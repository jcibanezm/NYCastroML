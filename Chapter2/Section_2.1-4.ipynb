{
 "metadata": {
  "name": ""
 },
 "nbformat": 3,
 "nbformat_minor": 0,
 "worksheets": [
  {
   "cells": [
    {
     "cell_type": "code",
     "collapsed": false,
     "input": [
      "%pylab inline --no-import-all\n",
      "from IPython.display import Image, Math, Latex"
     ],
     "language": "python",
     "metadata": {},
     "outputs": [
      {
       "output_type": "stream",
       "stream": "stdout",
       "text": [
        "Populating the interactive namespace from numpy and matplotlib\n"
       ]
      }
     ],
     "prompt_number": 1
    },
    {
     "cell_type": "heading",
     "level": 1,
     "metadata": {},
     "source": [
      "Fast Computation on Massive Data Sets"
     ]
    },
    {
     "cell_type": "markdown",
     "metadata": {},
     "source": [
      "### &nbsp;&nbsp;&nbsp;&nbsp;Kilian (2.1 - 2.4)"
     ]
    },
    {
     "cell_type": "heading",
     "level": 2,
     "metadata": {},
     "source": [
      "2.1 Data Types and Data Management Systems     "
     ]
    },
    {
     "cell_type": "heading",
     "level": 3,
     "metadata": {},
     "source": [
      "2.1.1 Data Types"
     ]
    },
    {
     "cell_type": "markdown",
     "metadata": {},
     "source": [
      "-   Continuous e.g. time, flux\n",
      "-   Ordinal i.e. ranked classifications\n",
      "-   Nominal i.e. unordered classifications\n"
     ]
    },
    {
     "cell_type": "heading",
     "level": 3,
     "metadata": {},
     "source": [
      "2.1.2 Data Management Systems"
     ]
    },
    {
     "cell_type": "code",
     "collapsed": false,
     "input": [
      "Image(url='http://www.databaseanswers.org/tutorial4_db_schema/images/starbucks_pay_the_bill.gif')"
     ],
     "language": "python",
     "metadata": {},
     "outputs": [
      {
       "html": [
        "<img src=\"http://www.databaseanswers.org/tutorial4_db_schema/images/starbucks_pay_the_bill.gif\"/>"
       ],
       "metadata": {},
       "output_type": "pyout",
       "prompt_number": 11,
       "text": [
        "<IPython.core.display.Image at 0x2761590>"
       ]
      }
     ],
     "prompt_number": 11
    },
    {
     "cell_type": "markdown",
     "metadata": {},
     "source": [
      "-   SQL\n",
      "-   noSQL e.g. Hadoop (MapReduce)\n",
      "-   SciDB"
     ]
    },
    {
     "cell_type": "heading",
     "level": 2,
     "metadata": {},
     "source": [
      "2.2 Analysis of Algorithmic Efficiency"
     ]
    },
    {
     "cell_type": "markdown",
     "metadata": {},
     "source": [
      "-   $\\mathcal{O} (N)$  notation\n",
      "-   ML methods hard to compute - naive implementations can be $\\mathcal{O} (N^{2})$ or $\\mathcal{O} (N^{3})$"
     ]
    },
    {
     "cell_type": "heading",
     "level": 2,
     "metadata": {},
     "source": [
      "2.3 Seven Types of Computational Problem "
     ]
    },
    {
     "cell_type": "markdown",
     "metadata": {},
     "source": [
      "* __Basic Problem:__\n",
      "\n",
      "&nbsp;&nbsp;&nbsp;&nbsp;&nbsp;&nbsp;&nbsp;&nbsp;typically $\\mathcal{O}(N)$ or $\\mathcal{O}(N \\log(N))$\n",
      "\n",
      "* __Generalised N-body Problems:__\n",
      "\n",
      "&nbsp;&nbsp;&nbsp;&nbsp;&nbsp;&nbsp;&nbsp;&nbsp;naively $\\mathcal{O}(N^{2})$ or $\\mathcal{O}(N^{3})$ but can be sped up with methods like e.g. Fast Multipole Method gets it to $\\mathcal{O}(N)$\n",
      "\n",
      "* __Linear Algebraic Problems:__\n",
      "\n",
      "&nbsp;&nbsp;&nbsp;&nbsp;&nbsp;&nbsp;&nbsp;&nbsp;comes up a lot in parameter fitting, can also be as bad as $\\mathcal{O}(N^{3})$\n",
      "\n",
      "* __Optimisation Problems:__\n",
      "\n",
      "&nbsp;&nbsp;&nbsp;&nbsp;&nbsp;&nbsp;&nbsp;&nbsp;finding extrema of functions, gradient descent etc.; unconstrained can be $\\mathcal{O}(N)$ but nonlinear SVM can be $\\mathcal{O}(N^{3})$\n",
      "\n",
      "* __Integration Problems:__\n",
      "\n",
      "&nbsp;&nbsp;&nbsp;&nbsp;&nbsp;&nbsp;&nbsp;&nbsp;Bayesian modelling in many dimensions, complexity goes exponentially; MCMC is an efficient alternative to quadrature computation\n",
      "\n",
      "* __Graph-theoretic Problems:__\n",
      "\n",
      "&nbsp;&nbsp;&nbsp;&nbsp;&nbsp;&nbsp;&nbsp;&nbsp;Probabilistic graphic models, nearest neighbours, also exponential in number of dimensions\n",
      "\n",
      "* __Allignment Problems:__\n",
      "\n",
      "&nbsp;&nbsp;&nbsp;&nbsp;&nbsp;&nbsp;&nbsp;&nbsp;\"cross-matching\", can be exponential in N"
     ]
    },
    {
     "cell_type": "heading",
     "level": 2,
     "metadata": {},
     "source": [
      "2.4 Seven Strategies for Speeding Things Up"
     ]
    },
    {
     "cell_type": "markdown",
     "metadata": {},
     "source": [
      "* __Trees:__\n",
      "\n",
      "&nbsp;&nbsp;&nbsp;&nbsp;&nbsp;&nbsp;&nbsp;&nbsp;divides up the space containing your data, searches/calculates rapidly by ignoring distant locations from point of interest\n",
      "\n",
      "&nbsp;&nbsp;&nbsp;&nbsp;&nbsp;&nbsp;&nbsp;&nbsp;good for data with low intrinsic dimensionality\n",
      "\n",
      "e.g."
     ]
    },
    {
     "cell_type": "code",
     "collapsed": false,
     "input": [
      "from sklearn.neighbors import KDTree\n",
      "# or\n",
      "from scipy.spatial import cKDTree\n",
      "\n",
      "t = KDTree(np.random.random((10000, 4)))\n",
      "\n",
      "pts = t.query_radius(np.random.random(4), r=0.1)\n",
      "\n",
      "print pts"
     ],
     "language": "python",
     "metadata": {},
     "outputs": [
      {
       "output_type": "stream",
       "stream": "stdout",
       "text": [
        "[array([ 451, 7998, 5475, 5270])]\n"
       ]
      }
     ],
     "prompt_number": 22
    },
    {
     "cell_type": "markdown",
     "metadata": {},
     "source": [
      "* __Subproblem reuse:__\n",
      "\n",
      "&nbsp;&nbsp;&nbsp;&nbsp;&nbsp;&nbsp;&nbsp;&nbsp;\"dynamic programming\" and \"memoization\" - methods rely on storage of previous results\n",
      "\n",
      "* __Locality:__\n",
      "\n",
      "&nbsp;&nbsp;&nbsp;&nbsp;&nbsp;&nbsp;&nbsp;&nbsp;improve the speed of your computation by exploiting the latency in communication between your processor and various levels of cache; very important in GPU clusters\n",
      "\n",
      "* __Streaming:__\n",
      "\n",
      "&nbsp;&nbsp;&nbsp;&nbsp;&nbsp;&nbsp;&nbsp;&nbsp;\"online\" processing - one data point at a time\n",
      "\n",
      "* __Function Transforms:__\n",
      "\n",
      "&nbsp;&nbsp;&nbsp;&nbsp;&nbsp;&nbsp;&nbsp;&nbsp; e.g. Taylor series, Fourier Transform, Hermite expansion; exponential dependence on dimension\n",
      "\n",
      "* __Sampling:__\n",
      "\n",
      "&nbsp;&nbsp;&nbsp;&nbsp;&nbsp;&nbsp;&nbsp;&nbsp;e.g. process random subset of large dataset, can be more clever about this - kernel density estimation, nearest-neighbour search\n",
      "\n",
      "* __Parallelism:__\n",
      "\n",
      "&nbsp;&nbsp;&nbsp;&nbsp;&nbsp;&nbsp;&nbsp;&nbsp;MapReduce et al"
     ]
    },
    {
     "cell_type": "code",
     "collapsed": false,
     "input": [
      "import multiprocessing\n",
      "# or\n",
      "import threading"
     ],
     "language": "python",
     "metadata": {},
     "outputs": [],
     "prompt_number": 25
    },
    {
     "cell_type": "markdown",
     "metadata": {},
     "source": [
      "* __Problem Transformation:__\n",
      "\n",
      "&nbsp;&nbsp;&nbsp;&nbsp;&nbsp;&nbsp;&nbsp;&nbsp; Lagrangian dual in SVMs"
     ]
    },
    {
     "cell_type": "code",
     "collapsed": false,
     "input": [],
     "language": "python",
     "metadata": {},
     "outputs": []
    }
   ],
   "metadata": {}
  }
 ]
}